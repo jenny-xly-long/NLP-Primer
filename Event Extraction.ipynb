{
 "cells": [
  {
   "cell_type": "code",
   "execution_count": 1,
   "metadata": {},
   "outputs": [],
   "source": [
    "import logging\n",
    "from Giveme5W1H.extractor.document import Document\n",
    "from Giveme5W1H.extractor.extractor import MasterExtractor\n",
    "\n",
    "event = \"When former San Francisco 49ers quarterback Colin Kaepernick took a knee during the national anthem in August 2016, it was in protest of unjust police killings of black Americans.For his courage, Kaepernick lost his job, the NFL lost its mind by forbidding the peaceful action ― and meanwhile, at least 378 black Americans have lost their lives in police killings. That most recent estimate of black police violence victims comes from data compiled by The Washington Post and analyzed by HuffPost.Last August, HuffPost reported that based on the Post’s data, at least 223 black Americans had been killed by police gunfire in the year since Kaepernick first sat, then took a knee, to protest police violence. Less than a year later, that number has increased by at least 155 people.\""
   ]
  },
  {
   "cell_type": "code",
   "execution_count": null,
   "metadata": {},
   "outputs": [
    {
     "name": "stderr",
     "output_type": "stream",
     "text": [
      "No extractors passed: initializing default configuration.\n",
      "No combinedScorers passed: initializing default configuration.\n",
      "/Users/Jenny/anaconda3/lib/python3.7/site-packages/Giveme5W1H/examples/caches/Nominatim.prickle CACHED: San Francisco: SF, California, USA\n",
      "Exception in thread Thread-5:\n",
      "Traceback (most recent call last):\n",
      "  File \"/Users/Jenny/anaconda3/lib/python3.7/threading.py\", line 917, in _bootstrap_inner\n",
      "    self.run()\n",
      "  File \"/Users/Jenny/anaconda3/lib/python3.7/site-packages/Giveme5W1H/extractor/extractor.py\", line 20, in run\n",
      "    extractor.process(document)\n",
      "  File \"/Users/Jenny/anaconda3/lib/python3.7/site-packages/Giveme5W1H/extractor/extractors/abs_extractor.py\", line 40, in process\n",
      "    self._extract_candidates(document)\n",
      "  File \"/Users/Jenny/anaconda3/lib/python3.7/site-packages/Giveme5W1H/extractor/extractors/environment_extractor.py\", line 147, in _extract_candidates\n",
      "    self._cache_nominatim.cache(location_string, location)\n",
      "  File \"/Users/Jenny/anaconda3/lib/python3.7/site-packages/Giveme5W1H/extractor/tools/key_value_cache.py\", line 58, in cache\n",
      "    self.persist()\n",
      "  File \"/Users/Jenny/anaconda3/lib/python3.7/site-packages/Giveme5W1H/extractor/tools/key_value_cache.py\", line 43, in persist\n",
      "    with open(self._cache_path, 'wb') as f:\n",
      "FileNotFoundError: [Errno 2] No such file or directory: '/Users/Jenny/anaconda3/lib/python3.7/site-packages/Giveme5W1H/examples/caches/Nominatim.prickle'\n",
      "\n"
     ]
    }
   ],
   "source": [
    "if __name__ == '__main__':\n",
    "    # logger setup\n",
    "    log = logging.getLogger('GiveMe5W')\n",
    "    log.setLevel(logging.DEBUG)\n",
    "    sh = logging.StreamHandler()\n",
    "    sh.setLevel(logging.DEBUG)\n",
    "    log.addHandler(sh)\n",
    "\n",
    "    # giveme5w setup - with defaults\n",
    "    extractor = MasterExtractor()\n",
    "    doc = Document.from_text(event, '2018-05-24 20:06:00')\n",
    "\n",
    "    doc = extractor.parse(doc)\n",
    "\n",
    "    top_who_answer = doc.get_top_answer('who').get_parts_as_text()\n",
    "    top_what_answer = doc.get_top_answer('what').get_parts_as_text()\n",
    "    top_when_answer = doc.get_top_answer('when').get_parts_as_text()\n",
    "    top_where_answer = doc.get_top_answer('where').get_parts_as_text()\n",
    "    top_why_answer = doc.get_top_answer('why').get_parts_as_text()\n",
    "    top_how_answer = doc.get_top_answer('how').get_parts_as_text()\n",
    "\n",
    "    print(top_who_answer)\n",
    "    print(top_what_answer)\n",
    "    print(top_when_answer)\n",
    "    print(top_where_answer)\n",
    "    print(top_why_answer)\n",
    "    print(top_how_answer)"
   ]
  },
  {
   "cell_type": "code",
   "execution_count": null,
   "metadata": {},
   "outputs": [],
   "source": []
  }
 ],
 "metadata": {
  "kernelspec": {
   "display_name": "Python 3",
   "language": "python",
   "name": "python3"
  },
  "language_info": {
   "codemirror_mode": {
    "name": "ipython",
    "version": 3
   },
   "file_extension": ".py",
   "mimetype": "text/x-python",
   "name": "python",
   "nbconvert_exporter": "python",
   "pygments_lexer": "ipython3",
   "version": "3.7.3"
  }
 },
 "nbformat": 4,
 "nbformat_minor": 2
}
