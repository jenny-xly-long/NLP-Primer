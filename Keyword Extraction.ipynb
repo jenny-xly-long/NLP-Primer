{
 "cells": [
  {
   "cell_type": "code",
   "execution_count": 38,
   "metadata": {},
   "outputs": [],
   "source": [
    "import pandas as pd\n",
    "import nltk\n",
    "import re\n",
    "\n",
    "from nltk import word_tokenize, pos_tag, ne_chunk\n",
    "from nltk.tokenize import RegexpTokenizer\n",
    "from nltk.corpus import stopwords\n",
    "from nltk.stem import WordNetLemmatizer,PorterStemmer\n",
    "from nltk.corpus import stopwords\n",
    "\n",
    "lemmatizer = WordNetLemmatizer()\n",
    "stemmer = PorterStemmer() \n",
    "\n",
    "from summa import keywords\n",
    "import spacy\n",
    "sp = spacy.load('en_core_web_sm')\n",
    "from spacy import displacy\n",
    "from pathlib import Path"
   ]
  },
  {
   "cell_type": "code",
   "execution_count": 2,
   "metadata": {},
   "outputs": [
    {
     "name": "stdout",
     "output_type": "stream",
     "text": [
      "['When', 'former', 'San', 'Francisco', '49ers', 'quarterback', 'Colin', 'Kaepernick', 'took', 'knee', 'national', 'anthem', 'August', '2016', 'protest', 'unjust', 'police', 'killings', 'black', 'Americans', 'For', 'courage', 'Kaepernick', 'lost', 'job', 'NFL', 'lost', 'mind', 'forbidding', 'peaceful', 'action', 'meanwhile', 'least', '378', 'black', 'Americans', 'lost', 'lives', 'police', 'killings', 'That', 'recent', 'estimate', 'black', 'police', 'violence', 'victims', 'comes', 'data', 'compiled', 'The', 'Washington', 'Post', 'analyzed', 'HuffPost', 'Last', 'August', 'HuffPost', 'reported', 'based', 'Post', 'data', 'least', '223', 'black', 'Americans', 'killed', 'police', 'gunfire', 'year', 'since', 'Kaepernick', 'first', 'sat', 'took', 'knee', 'protest', 'police', 'violence', 'Less', 'year', 'later', 'number', 'increased', 'least', '155', 'people']\n"
     ]
    }
   ],
   "source": [
    "def preprocess(sentence):\n",
    "    \n",
    "    sentence=str(sentence) # Make sure the given input is a string\n",
    "    stop_words = set(stopwords.words('english')) # set stopwords\n",
    "    tokenizer = RegexpTokenizer(r'\\w+') # match alphanumerical string\n",
    "    clean = re.compile('<.*?>')\n",
    "    \n",
    "    sentence = sentence.lower() # To lowercase\n",
    "    sentence = sentence.replace('{html}',\"\") \n",
    "    cleantext = re.sub(clean, '', sentence)\n",
    "    removeUrl=re.sub(r'http\\S+', '',cleantext)\n",
    "    removeNum = re.sub('[0-9]+', '', removeUrl)\n",
    "    tokens = tokenizer.tokenize(removeNum)  \n",
    "    filtered_words = [w for w in tokens if len(w) > 2 if not w in stopwords.words('english')]\n",
    "    #stem_words=[stemmer.stem(w) for w in filtered_words]\n",
    "    #lemma_words=[lemmatizer.lemmatize(w) for w in stem_words]\n",
    "    return filtered_words"
   ]
  },
  {
   "cell_type": "code",
   "execution_count": null,
   "metadata": {},
   "outputs": [],
   "source": [
    "test = \"When former San Francisco 49ers quarterback Colin Kaepernick took a knee during the national anthem in August 2016, it was in protest of unjust police killings of black Americans.For his courage, Kaepernick lost his job, the NFL lost its mind by forbidding the peaceful action ― and meanwhile, at least 378 black Americans have lost their lives in police killings. That most recent estimate of black police violence victims comes from data compiled by The Washington Post and analyzed by HuffPost.Last August, HuffPost reported that based on the Post’s data, at least 223 black Americans had been killed by police gunfire in the year since Kaepernick first sat, then took a knee, to protest police violence. Less than a year later, that number has increased by at least 155 people.\""
   ]
  },
  {
   "cell_type": "code",
   "execution_count": null,
   "metadata": {},
   "outputs": [],
   "source": [
    "result = preprocess(test)\n",
    "result_sentence = \" \".join(result)"
   ]
  },
  {
   "cell_type": "code",
   "execution_count": 42,
   "metadata": {},
   "outputs": [
    {
     "data": {
      "text/plain": [
       "'<table border=\"1\" class=\"dataframe\">  <thead>    <tr style=\"text-align: right;\">      <th></th>      <th>0</th>      <th>1</th>      <th>2</th>      <th>3</th>      <th>4</th>      <th>5</th>      <th>6</th>      <th>7</th>    </tr>  </thead>  <tbody>    <tr>      <th>Keywords</th>      <td>police</td>      <td>lost</td>      <td>post</td>      <td>kaepernick took</td>      <td>black</td>      <td>protest</td>      <td>data</td>      <td>huffpost</td>    </tr>  </tbody></table>'"
      ]
     },
     "execution_count": 42,
     "metadata": {},
     "output_type": "execute_result"
    }
   ],
   "source": [
    "# Use Summa to get keywords \n",
    "string = keywords.keywords(result_sentence)\n",
    "lst = string.split(\"\\n\")\n",
    "df = pd.DataFrame(lst)\n",
    "df.columns = ['Keywords']\n",
    "df.T.to_html().replace(\"\\n\", \"\")"
   ]
  },
  {
   "cell_type": "code",
   "execution_count": 43,
   "metadata": {},
   "outputs": [],
   "source": [
    "# Knowledge graph based on TextRank\n",
    "from news_graph import NewsMining\n",
    "content = test\n",
    "Miner = NewsMining()\n",
    "Miner.main(content)"
   ]
  },
  {
   "cell_type": "code",
   "execution_count": 3,
   "metadata": {},
   "outputs": [
    {
     "name": "stderr",
     "output_type": "stream",
     "text": [
      "[nltk_data] Downloading package punkt to /Users/Jenny/nltk_data...\n",
      "[nltk_data]   Package punkt is already up-to-date!\n",
      "[nltk_data] Downloading package averaged_perceptron_tagger to\n",
      "[nltk_data]     /Users/Jenny/nltk_data...\n",
      "[nltk_data]   Package averaged_perceptron_tagger is already up-to-\n",
      "[nltk_data]       date!\n"
     ]
    },
    {
     "name": "stdout",
     "output_type": "stream",
     "text": [
      "[('When', 'WRB'), ('former', 'JJ'), ('San', 'NNP'), ('Francisco', 'NNP'), ('49ers', 'CD'), ('quarterback', 'NN'), ('Colin', 'NNP'), ('Kaepernick', 'NNP'), ('took', 'VBD'), ('knee', 'NNP'), ('national', 'JJ'), ('anthem', 'NN'), ('August', 'NNP'), ('2016', 'CD'), ('protest', 'NN'), ('unjust', 'JJ'), ('police', 'NN'), ('killings', 'NNS'), ('black', 'JJ'), ('Americans', 'NNPS'), ('For', 'IN'), ('courage', 'NN'), ('Kaepernick', 'NNP'), ('lost', 'VBD'), ('job', 'NN'), ('NFL', 'NNP'), ('lost', 'VBD'), ('mind', 'NN'), ('forbidding', 'VBG'), ('peaceful', 'JJ'), ('action', 'NN'), ('meanwhile', 'RB'), ('least', 'JJS'), ('378', 'CD'), ('black', 'JJ'), ('Americans', 'NNPS'), ('lost', 'VBN'), ('lives', 'NNS'), ('police', 'JJ'), ('killings', 'NNS'), ('That', 'WDT'), ('recent', 'JJ'), ('estimate', 'NN'), ('black', 'JJ'), ('police', 'NN'), ('violence', 'NN'), ('victims', 'NNS'), ('comes', 'VBZ'), ('data', 'NNS'), ('compiled', 'VBD'), ('The', 'DT'), ('Washington', 'NNP'), ('Post', 'NNP'), ('analyzed', 'VBD'), ('HuffPost', 'NNP'), ('Last', 'JJ'), ('August', 'NNP'), ('HuffPost', 'NNP'), ('reported', 'VBD'), ('based', 'VBN'), ('Post', 'NNP'), ('data', 'NNS'), ('least', 'JJS'), ('223', 'CD'), ('black', 'JJ'), ('Americans', 'NNPS'), ('killed', 'VBN'), ('police', 'NN'), ('gunfire', 'NN'), ('year', 'NN'), ('since', 'IN'), ('Kaepernick', 'NNP'), ('first', 'RB'), ('sat', 'VBD'), ('took', 'VBD'), ('knee', 'NN'), ('protest', 'NN'), ('police', 'NN'), ('violence', 'NN'), ('Less', 'NNP'), ('year', 'NN'), ('later', 'RB'), ('number', 'NN'), ('increased', 'VBD'), ('least', 'JJS'), ('155', 'CD'), ('people', 'NNS')]\n"
     ]
    }
   ],
   "source": [
    "# POS tagging\n",
    "import nltk\n",
    "nltk.download('punkt')\n",
    "nltk.download('averaged_perceptron_tagger')\n",
    "tpl = pos_tag(result)\n",
    "dic = dict((w, t) for w, t in tpl)\n",
    "\n",
    "print(tpl)\n"
   ]
  },
  {
   "cell_type": "code",
   "execution_count": 38,
   "metadata": {},
   "outputs": [
    {
     "data": {
      "text/plain": [
       "'<table border=\"1\" class=\"dataframe\">  <thead>    <tr style=\"text-align: right;\">      <th></th>      <th>When</th>      <th>former</th>      <th>San</th>      <th>Francisco</th>      <th>49ers</th>      <th>quarterback</th>      <th>Colin</th>      <th>Kaepernick</th>      <th>took</th>      <th>knee</th>      <th>national</th>      <th>anthem</th>      <th>August</th>      <th>2016</th>      <th>protest</th>      <th>unjust</th>      <th>police</th>      <th>killings</th>      <th>black</th>      <th>Americans</th>      <th>For</th>      <th>courage</th>      <th>lost</th>      <th>job</th>      <th>NFL</th>      <th>mind</th>      <th>forbidding</th>      <th>peaceful</th>      <th>action</th>      <th>meanwhile</th>      <th>least</th>      <th>378</th>      <th>lives</th>      <th>That</th>      <th>recent</th>      <th>estimate</th>      <th>violence</th>      <th>victims</th>      <th>comes</th>      <th>data</th>      <th>compiled</th>      <th>The</th>      <th>Washington</th>      <th>Post</th>      <th>analyzed</th>      <th>HuffPost</th>      <th>Last</th>      <th>reported</th>      <th>based</th>      <th>223</th>      <th>killed</th>      <th>gunfire</th>      <th>year</th>      <th>since</th>      <th>first</th>      <th>sat</th>      <th>Less</th>      <th>later</th>      <th>number</th>      <th>increased</th>      <th>155</th>      <th>people</th>    </tr>  </thead>  <tbody>    <tr>      <th>Tags</th>      <td>WRB</td>      <td>JJ</td>      <td>NNP</td>      <td>NNP</td>      <td>CD</td>      <td>NN</td>      <td>NNP</td>      <td>NNP</td>      <td>VBD</td>      <td>NN</td>      <td>JJ</td>      <td>NN</td>      <td>NNP</td>      <td>CD</td>      <td>NN</td>      <td>JJ</td>      <td>NN</td>      <td>NNS</td>      <td>JJ</td>      <td>NNPS</td>      <td>IN</td>      <td>NN</td>      <td>VBN</td>      <td>NN</td>      <td>NNP</td>      <td>NN</td>      <td>VBG</td>      <td>JJ</td>      <td>NN</td>      <td>RB</td>      <td>JJS</td>      <td>CD</td>      <td>NNS</td>      <td>WDT</td>      <td>JJ</td>      <td>NN</td>      <td>NN</td>      <td>NNS</td>      <td>VBZ</td>      <td>NNS</td>      <td>VBD</td>      <td>DT</td>      <td>NNP</td>      <td>NNP</td>      <td>VBD</td>      <td>NNP</td>      <td>JJ</td>      <td>VBD</td>      <td>VBN</td>      <td>CD</td>      <td>VBN</td>      <td>NN</td>      <td>NN</td>      <td>IN</td>      <td>RB</td>      <td>VBD</td>      <td>NNP</td>      <td>RB</td>      <td>NN</td>      <td>VBD</td>      <td>CD</td>      <td>NNS</td>    </tr>  </tbody></table>'"
      ]
     },
     "execution_count": 38,
     "metadata": {},
     "output_type": "execute_result"
    }
   ],
   "source": [
    "\n",
    "dic = dict((w, t) for w, t in tpl)\n",
    "df = pd.DataFrame.from_dict(dic,orient='index')\n",
    "df.columns = ['Tags']\n",
    "#table = df.T.to_html()\n",
    "#table.replace(\"\\n\", \"\")\n"
   ]
  },
  {
   "cell_type": "code",
   "execution_count": 4,
   "metadata": {},
   "outputs": [
    {
     "name": "stderr",
     "output_type": "stream",
     "text": [
      "[nltk_data] Downloading package maxent_ne_chunker to\n",
      "[nltk_data]     /Users/Jenny/nltk_data...\n",
      "[nltk_data]   Package maxent_ne_chunker is already up-to-date!\n",
      "[nltk_data] Downloading package words to /Users/Jenny/nltk_data...\n",
      "[nltk_data]   Package words is already up-to-date!\n"
     ]
    },
    {
     "name": "stdout",
     "output_type": "stream",
     "text": [
      "[('When', 'WRB', 'O'), ('former', 'JJ', 'O'), ('San', 'NNP', 'B-GPE'), ('Francisco', 'NNP', 'O'), ('49ers', 'CD', 'O'), ('quarterback', 'NN', 'O'), ('Colin', 'NNP', 'B-PERSON'), ('Kaepernick', 'NNP', 'I-PERSON'), ('took', 'VBD', 'O'), ('knee', 'NNP', 'O'), ('national', 'JJ', 'O'), ('anthem', 'NN', 'O'), ('August', 'NNP', 'O'), ('2016', 'CD', 'O'), ('protest', 'NN', 'O'), ('unjust', 'JJ', 'O'), ('police', 'NN', 'O'), ('killings', 'NNS', 'O'), ('black', 'JJ', 'O'), ('Americans', 'NNPS', 'O'), ('For', 'IN', 'O'), ('courage', 'NN', 'O'), ('Kaepernick', 'NNP', 'B-PERSON'), ('lost', 'VBD', 'O'), ('job', 'NN', 'O'), ('NFL', 'NNP', 'B-ORGANIZATION'), ('lost', 'VBD', 'O'), ('mind', 'NN', 'O'), ('forbidding', 'VBG', 'O'), ('peaceful', 'JJ', 'O'), ('action', 'NN', 'O'), ('meanwhile', 'RB', 'O'), ('least', 'JJS', 'O'), ('378', 'CD', 'O'), ('black', 'JJ', 'O'), ('Americans', 'NNPS', 'O'), ('lost', 'VBN', 'O'), ('lives', 'NNS', 'O'), ('police', 'JJ', 'O'), ('killings', 'NNS', 'O'), ('That', 'WDT', 'O'), ('recent', 'JJ', 'O'), ('estimate', 'NN', 'O'), ('black', 'JJ', 'O'), ('police', 'NN', 'O'), ('violence', 'NN', 'O'), ('victims', 'NNS', 'O'), ('comes', 'VBZ', 'O'), ('data', 'NNS', 'O'), ('compiled', 'VBD', 'O'), ('The', 'DT', 'O'), ('Washington', 'NNP', 'B-ORGANIZATION'), ('Post', 'NNP', 'I-ORGANIZATION'), ('analyzed', 'VBD', 'O'), ('HuffPost', 'NNP', 'B-ORGANIZATION'), ('Last', 'JJ', 'O'), ('August', 'NNP', 'O'), ('HuffPost', 'NNP', 'B-ORGANIZATION'), ('reported', 'VBD', 'O'), ('based', 'VBN', 'O'), ('Post', 'NNP', 'B-ORGANIZATION'), ('data', 'NNS', 'O'), ('least', 'JJS', 'O'), ('223', 'CD', 'O'), ('black', 'JJ', 'O'), ('Americans', 'NNPS', 'O'), ('killed', 'VBN', 'O'), ('police', 'NN', 'O'), ('gunfire', 'NN', 'O'), ('year', 'NN', 'O'), ('since', 'IN', 'O'), ('Kaepernick', 'NNP', 'B-PERSON'), ('first', 'RB', 'O'), ('sat', 'VBD', 'O'), ('took', 'VBD', 'O'), ('knee', 'NN', 'O'), ('protest', 'NN', 'O'), ('police', 'NN', 'O'), ('violence', 'NN', 'O'), ('Less', 'NNP', 'B-PERSON'), ('year', 'NN', 'O'), ('later', 'RB', 'O'), ('number', 'NN', 'O'), ('increased', 'VBD', 'O'), ('least', 'JJS', 'O'), ('155', 'CD', 'O'), ('people', 'NNS', 'O')]\n"
     ]
    }
   ],
   "source": [
    "# Chunking\n",
    "nltk.download('maxent_ne_chunker')\n",
    "nltk.download('words')\n",
    "from nltk.chunk import conlltags2tree, tree2conlltags\n",
    "ne_tree = ne_chunk(tpl)\n",
    "iob_tagged = tree2conlltags(ne_tree)\n",
    "print (iob_tagged)\n"
   ]
  },
  {
   "cell_type": "code",
   "execution_count": 44,
   "metadata": {},
   "outputs": [
    {
     "data": {
      "text/plain": [
       "'<table border=\"1\" class=\"dataframe\">  <thead>    <tr style=\"text-align: right;\">      <th></th>      <th>0</th>      <th>1</th>      <th>2</th>      <th>3</th>      <th>4</th>      <th>5</th>      <th>6</th>      <th>7</th>      <th>8</th>      <th>9</th>      <th>10</th>      <th>11</th>      <th>12</th>      <th>13</th>      <th>14</th>      <th>15</th>      <th>16</th>      <th>17</th>      <th>18</th>      <th>19</th>      <th>20</th>      <th>21</th>      <th>22</th>      <th>23</th>      <th>24</th>      <th>25</th>      <th>26</th>      <th>27</th>      <th>28</th>      <th>29</th>      <th>30</th>      <th>31</th>      <th>32</th>      <th>33</th>      <th>34</th>      <th>35</th>      <th>36</th>      <th>37</th>      <th>38</th>      <th>39</th>      <th>40</th>      <th>41</th>      <th>42</th>      <th>43</th>      <th>44</th>      <th>45</th>      <th>46</th>      <th>47</th>      <th>48</th>      <th>49</th>      <th>50</th>      <th>51</th>      <th>52</th>      <th>53</th>      <th>54</th>      <th>55</th>      <th>56</th>      <th>57</th>      <th>58</th>      <th>59</th>      <th>60</th>      <th>61</th>      <th>62</th>      <th>63</th>      <th>64</th>      <th>65</th>      <th>66</th>      <th>67</th>      <th>68</th>      <th>69</th>      <th>70</th>      <th>71</th>      <th>72</th>      <th>73</th>      <th>74</th>      <th>75</th>      <th>76</th>      <th>77</th>      <th>78</th>      <th>79</th>      <th>80</th>      <th>81</th>      <th>82</th>      <th>83</th>      <th>84</th>      <th>85</th>      <th>86</th>    </tr>  </thead>  <tbody>    <tr>      <th>Words</th>      <td>When</td>      <td>former</td>      <td>San</td>      <td>Francisco</td>      <td>49ers</td>      <td>quarterback</td>      <td>Colin</td>      <td>Kaepernick</td>      <td>took</td>      <td>knee</td>      <td>national</td>      <td>anthem</td>      <td>August</td>      <td>2016</td>      <td>protest</td>      <td>unjust</td>      <td>police</td>      <td>killings</td>      <td>black</td>      <td>Americans</td>      <td>For</td>      <td>courage</td>      <td>Kaepernick</td>      <td>lost</td>      <td>job</td>      <td>NFL</td>      <td>lost</td>      <td>mind</td>      <td>forbidding</td>      <td>peaceful</td>      <td>action</td>      <td>meanwhile</td>      <td>least</td>      <td>378</td>      <td>black</td>      <td>Americans</td>      <td>lost</td>      <td>lives</td>      <td>police</td>      <td>killings</td>      <td>That</td>      <td>recent</td>      <td>estimate</td>      <td>black</td>      <td>police</td>      <td>violence</td>      <td>victims</td>      <td>comes</td>      <td>data</td>      <td>compiled</td>      <td>The</td>      <td>Washington</td>      <td>Post</td>      <td>analyzed</td>      <td>HuffPost</td>      <td>Last</td>      <td>August</td>      <td>HuffPost</td>      <td>reported</td>      <td>based</td>      <td>Post</td>      <td>data</td>      <td>least</td>      <td>223</td>      <td>black</td>      <td>Americans</td>      <td>killed</td>      <td>police</td>      <td>gunfire</td>      <td>year</td>      <td>since</td>      <td>Kaepernick</td>      <td>first</td>      <td>sat</td>      <td>took</td>      <td>knee</td>      <td>protest</td>      <td>police</td>      <td>violence</td>      <td>Less</td>      <td>year</td>      <td>later</td>      <td>number</td>      <td>increased</td>      <td>least</td>      <td>155</td>      <td>people</td>    </tr>    <tr>      <th>POS Tags</th>      <td>WRB</td>      <td>JJ</td>      <td>NNP</td>      <td>NNP</td>      <td>CD</td>      <td>NN</td>      <td>NNP</td>      <td>NNP</td>      <td>VBD</td>      <td>NNP</td>      <td>JJ</td>      <td>NN</td>      <td>NNP</td>      <td>CD</td>      <td>NN</td>      <td>JJ</td>      <td>NN</td>      <td>NNS</td>      <td>JJ</td>      <td>NNPS</td>      <td>IN</td>      <td>NN</td>      <td>NNP</td>      <td>VBD</td>      <td>NN</td>      <td>NNP</td>      <td>VBD</td>      <td>NN</td>      <td>VBG</td>      <td>JJ</td>      <td>NN</td>      <td>RB</td>      <td>JJS</td>      <td>CD</td>      <td>JJ</td>      <td>NNPS</td>      <td>VBN</td>      <td>NNS</td>      <td>JJ</td>      <td>NNS</td>      <td>WDT</td>      <td>JJ</td>      <td>NN</td>      <td>JJ</td>      <td>NN</td>      <td>NN</td>      <td>NNS</td>      <td>VBZ</td>      <td>NNS</td>      <td>VBD</td>      <td>DT</td>      <td>NNP</td>      <td>NNP</td>      <td>VBD</td>      <td>NNP</td>      <td>JJ</td>      <td>NNP</td>      <td>NNP</td>      <td>VBD</td>      <td>VBN</td>      <td>NNP</td>      <td>NNS</td>      <td>JJS</td>      <td>CD</td>      <td>JJ</td>      <td>NNPS</td>      <td>VBN</td>      <td>NN</td>      <td>NN</td>      <td>NN</td>      <td>IN</td>      <td>NNP</td>      <td>RB</td>      <td>VBD</td>      <td>VBD</td>      <td>NN</td>      <td>NN</td>      <td>NN</td>      <td>NN</td>      <td>NNP</td>      <td>NN</td>      <td>RB</td>      <td>NN</td>      <td>VBD</td>      <td>JJS</td>      <td>CD</td>      <td>NNS</td>    </tr>    <tr>      <th>IOB Tags</th>      <td>O</td>      <td>O</td>      <td>B-GPE</td>      <td>O</td>      <td>O</td>      <td>O</td>      <td>B-PERSON</td>      <td>I-PERSON</td>      <td>O</td>      <td>O</td>      <td>O</td>      <td>O</td>      <td>O</td>      <td>O</td>      <td>O</td>      <td>O</td>      <td>O</td>      <td>O</td>      <td>O</td>      <td>O</td>      <td>O</td>      <td>O</td>      <td>B-PERSON</td>      <td>O</td>      <td>O</td>      <td>B-ORGANIZATION</td>      <td>O</td>      <td>O</td>      <td>O</td>      <td>O</td>      <td>O</td>      <td>O</td>      <td>O</td>      <td>O</td>      <td>O</td>      <td>O</td>      <td>O</td>      <td>O</td>      <td>O</td>      <td>O</td>      <td>O</td>      <td>O</td>      <td>O</td>      <td>O</td>      <td>O</td>      <td>O</td>      <td>O</td>      <td>O</td>      <td>O</td>      <td>O</td>      <td>O</td>      <td>B-ORGANIZATION</td>      <td>I-ORGANIZATION</td>      <td>O</td>      <td>B-ORGANIZATION</td>      <td>O</td>      <td>O</td>      <td>B-ORGANIZATION</td>      <td>O</td>      <td>O</td>      <td>B-ORGANIZATION</td>      <td>O</td>      <td>O</td>      <td>O</td>      <td>O</td>      <td>O</td>      <td>O</td>      <td>O</td>      <td>O</td>      <td>O</td>      <td>O</td>      <td>B-PERSON</td>      <td>O</td>      <td>O</td>      <td>O</td>      <td>O</td>      <td>O</td>      <td>O</td>      <td>O</td>      <td>B-PERSON</td>      <td>O</td>      <td>O</td>      <td>O</td>      <td>O</td>      <td>O</td>      <td>O</td>      <td>O</td>    </tr>  </tbody></table>'"
      ]
     },
     "execution_count": 44,
     "metadata": {},
     "output_type": "execute_result"
    }
   ],
   "source": [
    "df = pd.DataFrame(iob_tagged)\n",
    "df.columns=['Words', 'POS Tags','IOB Tags']\n",
    "#df.T.to_html().replace(\"\\n\", \"\")"
   ]
  },
  {
   "cell_type": "code",
   "execution_count": 15,
   "metadata": {},
   "outputs": [
    {
     "data": {
      "text/plain": [
       "7259"
      ]
     },
     "execution_count": 15,
     "metadata": {},
     "output_type": "execute_result"
    }
   ],
   "source": [
    "# Use spaCy to visualize\n",
    "\n",
    "sen = sp(result_sentence)\n",
    "displacy.render(sen, style='ent', jupyter=True)\n",
    "html = displacy.render(sen, style='ent', jupyter=False)\n",
    "output_path = Path(\"/Users/Jenny/Desktop/NLP-Primer/sentence.html\") # Change to your own path\n",
    "output_path.open(\"w\", encoding=\"utf-8\").write(html)"
   ]
  }
 ],
 "metadata": {
  "kernelspec": {
   "display_name": "Python 3",
   "language": "python",
   "name": "python3"
  },
  "language_info": {
   "codemirror_mode": {
    "name": "ipython",
    "version": 3
   },
   "file_extension": ".py",
   "mimetype": "text/x-python",
   "name": "python",
   "nbconvert_exporter": "python",
   "pygments_lexer": "ipython3",
   "version": "3.7.3"
  }
 },
 "nbformat": 4,
 "nbformat_minor": 2
}
