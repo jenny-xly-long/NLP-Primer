{
 "cells": [
  {
   "cell_type": "code",
   "execution_count": 6,
   "metadata": {},
   "outputs": [
    {
     "data": {
      "text/plain": [
       "'chelsea sack mutu  chelsea have sacked adrian mutu after he failed a drugs test  the yearold tested positive for a banned substance  which he later denied was cocaine  in october chelsea have decided to write off a possible transfer fee for mutu a m signing from parma last season who may face a twoyear suspension a statement from chelsea explaining the decision readwe want to make clear that chelsea has a zero tolerance policy towards drugs mutu scored six goals in his first five games after arriving at stamford bridge but his form went into decline and he was frozen out by coach jose mourinho chelseas statement added this applies to both performanceenhancing drugs or socalled recreational drugs they have no place at our club or in sport in coming to a decision on this case chelsea believed the clubs social responsibility to its fans players employees and other stakeholders in football regarding drugs was more important than the major financial considerations to the company any player who takes drugs breaches his contract with the club as well as football association rules the club totally supports the fa in strong action on all drugs cases fifas disciplinary code stipulates that a first doping offence should be followed by a sixmonth ban and the sports world governing body has reiterated their stance over mutus failed drugs test maintaining it is a matter for the domestic sporting authorities fifa is not in a position to make any comment on the matter until the english fa have informed us of their disciplinary decision and the relevant information associated with it said a fifa spokesman chelseas move won backing from drugtesting expert michelle verroken verroken a former director of drugfree sport for uk sport insists the blues were right to sack mutu and have enhanced their reputation by doing so chelsea are saying quite clearly to the rest of their players and their fans that this is a situation they are not prepared to tolerate it was a very difficult decision for them and an expensive decision for them but the terms of his contract were breached and it was the only decision they could make it is a very clear stance by chelsea and it has given a strong boost to the reputation of the club it emerged that mutu had failed a drugs test on october  and although it was initially reported that the banned substance in question was cocaine the romanian international later suggested it was a substance designed to enhance sexual performance the football association has yet to act on mutus failed drugs test and refuses to discuss his case '"
      ]
     },
     "execution_count": 6,
     "metadata": {},
     "output_type": "execute_result"
    }
   ],
   "source": [
    "import pandas as pd\n",
    "\n",
    "from summa import keywords\n",
    "# Load news data into Pandas dataframe\n",
    "df = pd.read_csv('BBC news dataset.csv')\n",
    "test = df.iloc[0][1]\n",
    "test"
   ]
  },
  {
   "cell_type": "code",
   "execution_count": 7,
   "metadata": {},
   "outputs": [],
   "source": [
    "print(keywords.keywords(test))"
   ]
  },
  {
   "cell_type": "code",
   "execution_count": 19,
   "metadata": {},
   "outputs": [],
   "source": [
    "from news_graph import NewsMining\n",
    "content = test\n",
    "Miner = NewsMining()\n",
    "Miner.main(content)"
   ]
  },
  {
   "cell_type": "code",
   "execution_count": 10,
   "metadata": {},
   "outputs": [
    {
     "data": {
      "text/plain": [
       "'sports, stamford bridge, football association, fifa, michelle verroken, adrian mutu, jose mourinho, player, coach, director of drug-free sport for uk sport, spokesman, association football, adrian mutu, chelsea f.c., josé mourinho, doping in sport, transfer, english footballers, doping in association football, football, the football association'"
      ]
     },
     "execution_count": 10,
     "metadata": {},
     "output_type": "execute_result"
    }
   ],
   "source": [
    "df.iloc[0][2]"
   ]
  },
  {
   "cell_type": "code",
   "execution_count": 1,
   "metadata": {},
   "outputs": [],
   "source": [
    "import re\n",
    "\n",
    "email = \"From: John Smith To: Jim Bob \\n Hello Jim, Hope this email finds you well. I am writing to wish you happy birthday. Best, John\"\n",
    "sender = re.search(r\"From:(?:[^a-zA-Z'-]+[a-zA-Z'-]+){0,2}(\\S+)\", email)\n",
    "sender.group()\n",
    "receiver = re.search(r\"To:(?:[^a-zA-Z'-]+[a-zA-Z'-]+){0,2}\", email)\n",
    "test = receiver.group(0)\n",
    "result = re.search(r\"(?<=\\bequals )\\S+\", email)"
   ]
  },
  {
   "cell_type": "code",
   "execution_count": 2,
   "metadata": {},
   "outputs": [],
   "source": [
    "result"
   ]
  },
  {
   "cell_type": "code",
   "execution_count": 44,
   "metadata": {},
   "outputs": [
    {
     "ename": "UnboundLocalError",
     "evalue": "local variable 'send' referenced before assignment",
     "output_type": "error",
     "traceback": [
      "\u001b[0;31m---------------------------------------------------------------------------\u001b[0m",
      "\u001b[0;31mUnboundLocalError\u001b[0m                         Traceback (most recent call last)",
      "\u001b[0;32m<ipython-input-44-7501d1c4dd23>\u001b[0m in \u001b[0;36m<module>\u001b[0;34m\u001b[0m\n\u001b[0;32m----> 1\u001b[0;31m \u001b[0mextract_sender\u001b[0m\u001b[0;34m(\u001b[0m\u001b[0memail\u001b[0m\u001b[0;34m)\u001b[0m\u001b[0;34m\u001b[0m\u001b[0;34m\u001b[0m\u001b[0m\n\u001b[0m",
      "\u001b[0;32m<ipython-input-42-0e1a30cb6cbe>\u001b[0m in \u001b[0;36mextract_sender\u001b[0;34m(data)\u001b[0m\n\u001b[1;32m     14\u001b[0m         \u001b[0;31m#else:\u001b[0m\u001b[0;34m\u001b[0m\u001b[0;34m\u001b[0m\u001b[0;34m\u001b[0m\u001b[0m\n\u001b[1;32m     15\u001b[0m             \u001b[0;31m#match_list.append('') # add Null to output list\u001b[0m\u001b[0;34m\u001b[0m\u001b[0;34m\u001b[0m\u001b[0;34m\u001b[0m\u001b[0m\n\u001b[0;32m---> 16\u001b[0;31m         \u001b[0;32mreturn\u001b[0m\u001b[0;34m(\u001b[0m\u001b[0msend\u001b[0m\u001b[0;34m)\u001b[0m \u001b[0;31m# return output list\u001b[0m\u001b[0;34m\u001b[0m\u001b[0;34m\u001b[0m\u001b[0m\n\u001b[0m",
      "\u001b[0;31mUnboundLocalError\u001b[0m: local variable 'send' referenced before assignment"
     ]
    }
   ],
   "source": [
    "extract_sender(email)"
   ]
  },
  {
   "cell_type": "code",
   "execution_count": null,
   "metadata": {},
   "outputs": [],
   "source": []
  }
 ],
 "metadata": {
  "kernelspec": {
   "display_name": "Python 3",
   "language": "python",
   "name": "python3"
  },
  "language_info": {
   "codemirror_mode": {
    "name": "ipython",
    "version": 3
   },
   "file_extension": ".py",
   "mimetype": "text/x-python",
   "name": "python",
   "nbconvert_exporter": "python",
   "pygments_lexer": "ipython3",
   "version": "3.7.3"
  }
 },
 "nbformat": 4,
 "nbformat_minor": 2
}
