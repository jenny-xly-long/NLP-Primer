{
 "cells": [
  {
   "cell_type": "code",
   "execution_count": 15,
   "metadata": {},
   "outputs": [],
   "source": [
    "from pdfminer.pdfinterp import PDFResourceManager, PDFPageInterpreter\n",
    "from pdfminer.converter import TextConverter\n",
    "from pdfminer.layout import LAParams\n",
    "from pdfminer.pdfpage import PDFPage\n",
    "\n",
    "# from nltk.tokenize import word_tokenize\n",
    "# from nltk.corpus import stopwords\n",
    "\n",
    "import io\n",
    "import string"
   ]
  },
  {
   "cell_type": "code",
   "execution_count": 20,
   "metadata": {},
   "outputs": [],
   "source": [
    "# Convert PDF to text\n",
    "def convert_pdf_to_txt(file):\n",
    "    resourceManager = PDFResourceManager()\n",
    "    strToFile = io.StringIO() #Read string like a file\n",
    "    codec = 'utf-8'\n",
    "    laParams = LAParams()\n",
    "    device = TextConverter(resourceManager, strToFile, codec=codec, laparams=laParams)\n",
    "    f = open(file, 'rb')\n",
    "    interpreter = PDFPageInterpreter(resourceManager, device)\n",
    "    password = \"\"\n",
    "    maxpages = 0\n",
    "    caching = True\n",
    "    pagenos=set()\n",
    "\n",
    "    for page in PDFPage.get_pages(f, pagenos, maxpages=maxpages, password=password,caching=caching, check_extractable=True):\n",
    "        interpreter.process_page(page)\n",
    "\n",
    "    text = strToFile.getvalue()\n",
    "\n",
    "    f.close()\n",
    "    device.close()\n",
    "    strToFile.close()\n",
    "    return text"
   ]
  },
  {
   "cell_type": "code",
   "execution_count": 30,
   "metadata": {},
   "outputs": [
    {
     "data": {
      "text/plain": [
       "'IntroductionNumerical computing means:History:computing with numbers .• It is almost as old as civilization itself.• Modern numerical computing began with Isaac Newton in the 17th century;his invention of calculus was driven by its use in solving numerical problems.• Until the 20th century, calculation was primarily done with pencil and paper inthe west and the abacus in the east.• In the ﬁrst half of the 20th century the slide rule made multiplication easy, butgave only 3 digits of accuracy. Mechanical calculators were more costly andcumbersome, but accurate.Computers• Computers were ﬁrst invented in the 1940’s and 1950’s for solving hard scientiﬁcand engineering problems which required a great deal of numerical computing.• During the 1950’s, the primary usage of computers was for numerical computingin scientiﬁc applications.• In the 1960’s, computers became widely used by large businesses, for processing allkinds of information.• Computers became far more widespread, to medium-sized businesses in the 1970’s,and to many millions of small businesses and individuals during the PC revolutionof the 1980’s and 1990’s.The main interest is processing of information, such as text, images, and sound.Uses of Numerical ComputingIn most scientiﬁc disciplines, computing with numbers remains by far the most im-portant use of computers. e.g.• Physicists: solve complicated equations, from modeling the expansion of the uni-verse, to the microstructure of the atom, to test their theories against experimentaldata.1\\x0c• Chemists and biologists: determine the molecular structure of proteins.• Medical researchers: design new and better medical techniques, do statistical anal-ysis of experimental and clinical observations.• Atmospheric scientists: process huge quantities of data and solve appropriateequations to predict the weather.• Aeronautical engineers: designing better airplanes: the Boeing 757, 767 & 737-800 were designed relying more heavily on computer modeling than on wind tunneltests. Lower development costs allow smaller production runs.Computer Science & Numerical ComputingFast reliable numerical algorithms are important for example in:bioinformatics, computational geometry, data mining and information retrieval,animation, graphics, image processing, machine learning, modeling and simu-lation, patten recognition, robotics and computer vision, etc.Numerical computing is an important part of that technology which any computer scientistshould understand at some level.Software Bugs Relates to Numerical Computing• Ariane 5 Explosion (1996)• The Patriot Missile Failure (1991)• Wrong Vancouver Stock Exchange Index (1983)Programming Advice• Be careful and be correct• Use pseudocode• Check and double check• Use test case• Modularize code• Include warning messages• Use meaningful variable names• Include comments• Use appropriate data structure• Use built-in functions and program libraries• Do not over-optimize2\\x0c'"
      ]
     },
     "execution_count": 30,
     "metadata": {},
     "output_type": "execute_result"
    }
   ],
   "source": [
    "test = convert_pdf_to_txt('1-intro.pdf')\n",
    "test.replace(\"\\n\",\"\")"
   ]
  },
  {
   "cell_type": "code",
   "execution_count": 26,
   "metadata": {},
   "outputs": [],
   "source": [
    "# Save PDF content as txt file\n",
    "f=open('pdf_parse.txt','w')\n",
    "f.write(test)\n",
    "f.close()"
   ]
  },
  {
   "cell_type": "code",
   "execution_count": 27,
   "metadata": {},
   "outputs": [],
   "source": [
    "# Separate by lines\n",
    "with open('pdf_parse.txt') as f:\n",
    "    result = f.read().splitlines()"
   ]
  },
  {
   "cell_type": "code",
   "execution_count": 40,
   "metadata": {},
   "outputs": [],
   "source": [
    "# Preprocess pdf content\n",
    "process=[line.replace('\\xe2\\x80\\x9c\\x9d\\x99s','') for line in result]\n",
    "data = [x for x in process if x != ' ' and x!='']\n",
    "preprocessed_data = [s.translate(str.maketrans('', '', string.punctuation)) for s in data]"
   ]
  },
  {
   "cell_type": "code",
   "execution_count": 41,
   "metadata": {},
   "outputs": [
    {
     "data": {
      "text/plain": [
       "['Introduction',\n",
       " 'Numerical computing means',\n",
       " 'History',\n",
       " 'computing with numbers ',\n",
       " '• It is almost as old as civilization itself',\n",
       " '• Modern numerical computing began with Isaac Newton in the 17th century',\n",
       " 'his invention of calculus was driven by its use in solving numerical problems',\n",
       " '• Until the 20th century calculation was primarily done with pencil and paper in',\n",
       " 'the west and the abacus in the east',\n",
       " '• In the ﬁrst half of the 20th century the slide rule made multiplication easy but',\n",
       " 'gave only 3 digits of accuracy Mechanical calculators were more costly and',\n",
       " 'cumbersome but accurate',\n",
       " 'Computers',\n",
       " '• Computers were ﬁrst invented in the 1940’s and 1950’s for solving hard scientiﬁc',\n",
       " 'and engineering problems which required a great deal of numerical computing',\n",
       " '• During the 1950’s the primary usage of computers was for numerical computing',\n",
       " 'in scientiﬁc applications',\n",
       " '• In the 1960’s computers became widely used by large businesses for processing all',\n",
       " 'kinds of information',\n",
       " '• Computers became far more widespread to mediumsized businesses in the 1970’s',\n",
       " 'and to many millions of small businesses and individuals during the PC revolution',\n",
       " 'of the 1980’s and 1990’s',\n",
       " 'The main interest is processing of information such as text images and sound',\n",
       " 'Uses of Numerical Computing',\n",
       " 'In most scientiﬁc disciplines computing with numbers remains by far the most im',\n",
       " 'portant use of computers eg',\n",
       " '• Physicists solve complicated equations from modeling the expansion of the uni',\n",
       " 'verse to the microstructure of the atom to test their theories against experimental',\n",
       " 'data',\n",
       " '1',\n",
       " '• Chemists and biologists determine the molecular structure of proteins',\n",
       " '• Medical researchers design new and better medical techniques do statistical anal',\n",
       " 'ysis of experimental and clinical observations',\n",
       " '• Atmospheric scientists process huge quantities of data and solve appropriate',\n",
       " 'equations to predict the weather',\n",
       " '• Aeronautical engineers designing better airplanes the Boeing 757 767  737',\n",
       " '800 were designed relying more heavily on computer modeling than on wind tunnel',\n",
       " 'tests Lower development costs allow smaller production runs',\n",
       " 'Computer Science  Numerical Computing',\n",
       " 'Fast reliable numerical algorithms are important for example in',\n",
       " 'bioinformatics computational geometry data mining and information retrieval',\n",
       " 'animation graphics image processing machine learning modeling and simu',\n",
       " 'lation patten recognition robotics and computer vision etc',\n",
       " 'Numerical computing is an important part of that technology which any computer scientist',\n",
       " 'should understand at some level',\n",
       " 'Software Bugs Relates to Numerical Computing',\n",
       " '• Ariane 5 Explosion 1996',\n",
       " '• The Patriot Missile Failure 1991',\n",
       " '• Wrong Vancouver Stock Exchange Index 1983',\n",
       " 'Programming Advice',\n",
       " '• Be careful and be correct',\n",
       " '• Use pseudocode',\n",
       " '• Check and double check',\n",
       " '• Use test case',\n",
       " '• Modularize code',\n",
       " '• Include warning messages',\n",
       " '• Use meaningful variable names',\n",
       " '• Include comments',\n",
       " '• Use appropriate data structure',\n",
       " '• Use builtin functions and program libraries',\n",
       " '• Do not overoptimize',\n",
       " '2']"
      ]
     },
     "execution_count": 41,
     "metadata": {},
     "output_type": "execute_result"
    }
   ],
   "source": [
    "preprocessed_data"
   ]
  },
  {
   "cell_type": "code",
   "execution_count": null,
   "metadata": {},
   "outputs": [],
   "source": []
  }
 ],
 "metadata": {
  "kernelspec": {
   "display_name": "Python 3",
   "language": "python",
   "name": "python3"
  },
  "language_info": {
   "codemirror_mode": {
    "name": "ipython",
    "version": 3
   },
   "file_extension": ".py",
   "mimetype": "text/x-python",
   "name": "python",
   "nbconvert_exporter": "python",
   "pygments_lexer": "ipython3",
   "version": "3.7.3"
  }
 },
 "nbformat": 4,
 "nbformat_minor": 2
}
